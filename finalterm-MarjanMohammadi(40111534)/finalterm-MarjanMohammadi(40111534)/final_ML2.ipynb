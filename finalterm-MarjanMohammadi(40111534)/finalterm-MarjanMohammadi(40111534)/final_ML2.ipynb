{
  "nbformat": 4,
  "nbformat_minor": 0,
  "metadata": {
    "colab": {
      "provenance": []
    },
    "kernelspec": {
      "name": "python3",
      "display_name": "Python 3"
    },
    "language_info": {
      "name": "python"
    }
  },
  "cells": [
    {
      "cell_type": "code",
      "execution_count": null,
      "metadata": {
        "id": "kXoS9EdP5b1o",
        "colab": {
          "base_uri": "https://localhost:8080/"
        },
        "outputId": "e2e96d3c-15a7-4f55-d720-5208009a65ba"
      },
      "outputs": [
        {
          "output_type": "stream",
          "name": "stderr",
          "text": [
            "/usr/local/lib/python3.10/dist-packages/sklearn/metrics/_classification.py:1344: UndefinedMetricWarning: Precision and F-score are ill-defined and being set to 0.0 in labels with no predicted samples. Use `zero_division` parameter to control this behavior.\n",
            "  _warn_prf(average, modifier, msg_start, len(result))\n",
            "/usr/local/lib/python3.10/dist-packages/sklearn/metrics/_classification.py:1344: UndefinedMetricWarning: Precision and F-score are ill-defined and being set to 0.0 in labels with no predicted samples. Use `zero_division` parameter to control this behavior.\n",
            "  _warn_prf(average, modifier, msg_start, len(result))\n",
            "/usr/local/lib/python3.10/dist-packages/sklearn/metrics/_classification.py:1344: UndefinedMetricWarning: Precision and F-score are ill-defined and being set to 0.0 in labels with no predicted samples. Use `zero_division` parameter to control this behavior.\n",
            "  _warn_prf(average, modifier, msg_start, len(result))\n"
          ]
        },
        {
          "output_type": "stream",
          "name": "stdout",
          "text": [
            "Fitting 3 folds for each of 4 candidates, totalling 12 fits\n"
          ]
        }
      ],
      "source": [
        "import pandas as pd\n",
        "from sklearn.model_selection import train_test_split, GridSearchCV, cross_val_score\n",
        "from sklearn.svm import SVC\n",
        "from sklearn.metrics import confusion_matrix, classification_report, accuracy_score\n",
        "from sklearn.decomposition import PCA\n",
        "from sklearn.discriminant_analysis import LinearDiscriminantAnalysis as LDA\n",
        "from sklearn.ensemble import RandomForestClassifier\n",
        "import matplotlib.pyplot as plt\n",
        "import seaborn as sns\n",
        "import tensorflow as tf\n",
        "from tensorflow.keras.layers import Input, Dense\n",
        "from tensorflow.keras.models import Model\n",
        "\n",
        "# Load the dataset\n",
        "url = \"https://drive.google.com/uc?id=1mNnY9TxogefNRBmQQr8hl4sVhxaqEuvK\"\n",
        "data = pd.read_csv(url)\n",
        "\n",
        "# Split the dataset\n",
        "train_data, test_data = train_test_split(data, test_size=0.3, random_state=42)\n",
        "\n",
        "# Reduce dataset size for quick testing\n",
        "train_data_small = train_data.sample(frac=0.1, random_state=42)\n",
        "test_data_small = test_data.sample(frac=0.1, random_state=42)\n",
        "X_train_small = train_data_small.drop(columns=['dastgah'])\n",
        "y_train_small = train_data_small['dastgah']\n",
        "\n",
        "# Convert non-numeric values to numeric where applicable\n",
        "non_numeric_columns = X_train_small.select_dtypes(include=['object']).columns\n",
        "for column in non_numeric_columns:\n",
        "    X_train_small[column] = X_train_small[column].astype('category').cat.codes\n",
        "    test_data_small[column] = test_data_small[column].astype('category').cat.codes\n",
        "\n",
        "# Part ب: SVM Classification and Cross-Validation\n",
        "svm = SVC(kernel='rbf')\n",
        "scores = cross_val_score(svm, X_train_small, y_train_small, cv=3)\n",
        "svm.fit(X_train_small, y_train_small)\n",
        "y_pred = svm.predict(test_data_small.drop(columns=['dastgah']))\n",
        "conf_matrix = confusion_matrix(test_data_small['dastgah'], y_pred)\n",
        "class_report = classification_report(test_data_small['dastgah'], y_pred)\n",
        "\n",
        "# Part ج: GridSearch for Hyperparameter Tuning\n",
        "param_grid = {'C': [1, 10], 'gamma': [0.1, 0.01], 'kernel': ['linear']}\n",
        "grid = GridSearchCV(SVC(), param_grid, refit=True, verbose=1, cv=3)\n",
        "grid.fit(X_train_small, y_train_small)\n",
        "best_params = grid.best_params_\n",
        "\n",
        "# Part د: LDA and PCA for Dimensionality Reduction\n",
        "pca = PCA(n_components=2)\n",
        "X_pca = pca.fit_transform(X_train_small)\n",
        "lda = LDA(n_components=2)\n",
        "X_lda = lda.fit_transform(X_train_small, y_train_small)\n",
        "fig, (ax1, ax2) = plt.subplots(1, 2, figsize=(14, 6))\n",
        "for class_value in set(y_train_small):\n",
        "    indices = y_train_small == class_value\n",
        "    ax1.scatter(X_pca[indices, 0], X_pca[indices, 1], label=class_value)\n",
        "ax1.set_title('PCA Result')\n",
        "ax1.legend()\n",
        "for class_value in set(y_train_small):\n",
        "    indices = y_train_small == class_value\n",
        "    ax2.scatter(X_lda[indices, 0], X_lda[indices, 1], label=class_value)\n",
        "ax2.set_title('LDA Result')\n",
        "ax2.legend()\n",
        "plt.show()\n",
        "\n",
        "# Part ه: Feature Extraction Based on Audio Nature\n",
        "new_feature_df = X_train_small.copy()  # Replace with actual feature extraction process\n",
        "input_dim = new_feature_df.shape[1]\n",
        "input_layer = Input(shape=(input_dim, ))\n",
        "encoded = Dense(64, activation='relu')(input_layer)\n",
        "encoded = Dense(32, activation='relu')(encoded)\n",
        "decoded = Dense(64, activation='relu')(encoded)\n",
        "decoded = Dense(input_dim, activation='sigmoid')(decoded)\n",
        "autoencoder = Model(input_layer, decoded)\n",
        "autoencoder.compile(optimizer='adam', loss='mse')\n",
        "autoencoder.fit(new_feature_df, new_feature_df, epochs=10, batch_size=128, shuffle=True, validation_split=0.2)\n",
        "\n",
        "# Part و: Application of New Features for Classification\n",
        "encoder = Model(inputs=autoencoder.input, outputs=autoencoder.layers[1].output)\n",
        "encoded_features = encoder.predict(new_feature_df)\n",
        "rf_new = RandomForestClassifier(n_estimators=100, random_state=42)\n",
        "rf_new.fit(encoded_features, y_train_small)\n",
        "new_features_test = encoder.predict(test_data_small.drop(columns=['dastgah']))\n",
        "y_pred_new = rf_new.predict(new_features_test)\n",
        "conf_matrix_new = confusion_matrix(test_data_small['dastgah'], y_pred_new)\n",
        "class_report_new = classification_report(test_data_small['dastgah'], y_pred_new)\n",
        "\n",
        "# Part ز: Model Comparison and Performance Metrics\n",
        "models = ['Original Features', 'New Features']\n",
        "accuracy_scores = [accuracy_score(test_data_small['dastgah'], y_pred), accuracy_score(test_data_small['dastgah'], y_pred_new)]\n",
        "sns.barplot(x=models, y=accuracy_scores)\n",
        "plt.title('Model Comparison')\n",
        "plt.ylabel('Accuracy')\n",
        "plt.show()\n",
        "print(\"Original Features Classification Report:\\n\", class_report)\n",
        "print(\"New Features Classification Report:\\n\", class_report_new)\n"
      ]
    }
  ]
}